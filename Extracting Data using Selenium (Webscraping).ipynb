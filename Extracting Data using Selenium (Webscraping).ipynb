{
 "cells": [
  {
   "cell_type": "code",
   "execution_count": 33,
   "id": "ee1de0a5",
   "metadata": {},
   "outputs": [],
   "source": [
    "#imported necessary Libraries\n",
    "from selenium import webdriver\n",
    "from time import sleep"
   ]
  },
  {
   "cell_type": "code",
   "execution_count": 2,
   "id": "b2fe487e",
   "metadata": {},
   "outputs": [],
   "source": [
    "browser = webdriver.Chrome()"
   ]
  },
  {
   "cell_type": "code",
   "execution_count": 3,
   "id": "0f4cdd7e",
   "metadata": {},
   "outputs": [],
   "source": [
    "browser.get('https://www.flipkart.com/')"
   ]
  },
  {
   "cell_type": "code",
   "execution_count": 4,
   "id": "7e81df36",
   "metadata": {},
   "outputs": [],
   "source": [
    "input_search = browser.find_element('xpath',\"(//input[@class='Pke_EE'])[1]\")\n",
    "search_button= browser.find_element('xpath',\"(//button[@class='_2iLD__'])[1]\")"
   ]
  },
  {
   "cell_type": "code",
   "execution_count": 5,
   "id": "a4a4f0e0",
   "metadata": {},
   "outputs": [],
   "source": [
    "input_search.send_keys(\"iphone\")\n",
    "search_button.click()"
   ]
  },
  {
   "cell_type": "code",
   "execution_count": 6,
   "id": "34bc72ed",
   "metadata": {},
   "outputs": [],
   "source": [
    "from selenium.webdriver.common.by import By"
   ]
  },
  {
   "cell_type": "code",
   "execution_count": 7,
   "id": "c7dec105",
   "metadata": {},
   "outputs": [],
   "source": [
    "productnames=[]\n",
    "product_name=browser.find_elements('xpath',\"//div[@class='KzDlHZ']\")\n",
    "for pn in product_name:\n",
    "    productnames.append(pn.text)"
   ]
  },
  {
   "cell_type": "code",
   "execution_count": 8,
   "id": "5b9f687c",
   "metadata": {},
   "outputs": [
    {
     "data": {
      "text/plain": [
       "['Apple iPhone 15 (Blue, 128 GB)',\n",
       " 'Apple iPhone 15 (Black, 128 GB)',\n",
       " 'Apple iPhone 15 (Pink, 128 GB)',\n",
       " 'Apple iPhone 15 (Green, 128 GB)',\n",
       " 'Apple iPhone 15 Plus (Blue, 128 GB)',\n",
       " 'Apple iPhone 15 Plus (Green, 128 GB)',\n",
       " 'Apple iPhone 15 Plus (Pink, 128 GB)',\n",
       " 'Apple iPhone 15 Plus (Black, 128 GB)',\n",
       " 'Apple iPhone 15 (Black, 256 GB)',\n",
       " 'Apple iPhone 15 (Pink, 256 GB)',\n",
       " 'Apple iPhone 15 (Green, 256 GB)',\n",
       " 'Apple iPhone 15 (Blue, 256 GB)',\n",
       " 'Apple iPhone 15 Pro (Blue Titanium, 256 GB)',\n",
       " 'Apple iPhone 15 Pro (Natural Titanium, 256 GB)',\n",
       " 'Apple iPhone 15 (Yellow, 128 GB)',\n",
       " 'Apple iPhone 15 Pro Max (White Titanium, 512 GB)',\n",
       " 'Apple iPhone 15 Pro Max (Blue Titanium, 512 GB)',\n",
       " 'Apple iPhone 15 Pro Max (Natural Titanium, 512 GB)',\n",
       " 'Apple iPhone 15 Pro (Natural Titanium, 128 GB)',\n",
       " 'Apple iPhone 15 Pro Max (Black Titanium, 1 TB)',\n",
       " 'Apple iPhone 15 Pro (Blue Titanium, 512 GB)',\n",
       " 'Apple iPhone 15 Pro Max (Blue Titanium, 1 TB)',\n",
       " 'Apple iPhone 16 (Teal, 128 GB)',\n",
       " 'Apple iPhone 15 Pro Max (Blue Titanium, 256 GB)']"
      ]
     },
     "execution_count": 8,
     "metadata": {},
     "output_type": "execute_result"
    }
   ],
   "source": [
    "productnames"
   ]
  },
  {
   "cell_type": "code",
   "execution_count": 9,
   "id": "0accd8da",
   "metadata": {},
   "outputs": [],
   "source": [
    "new_list = [name.split('(')[0].strip() for name in productnames]"
   ]
  },
  {
   "cell_type": "code",
   "execution_count": 10,
   "id": "94f3453e",
   "metadata": {},
   "outputs": [
    {
     "data": {
      "text/plain": [
       "['Apple iPhone 15',\n",
       " 'Apple iPhone 15',\n",
       " 'Apple iPhone 15',\n",
       " 'Apple iPhone 15',\n",
       " 'Apple iPhone 15 Plus',\n",
       " 'Apple iPhone 15 Plus',\n",
       " 'Apple iPhone 15 Plus',\n",
       " 'Apple iPhone 15 Plus',\n",
       " 'Apple iPhone 15',\n",
       " 'Apple iPhone 15',\n",
       " 'Apple iPhone 15',\n",
       " 'Apple iPhone 15',\n",
       " 'Apple iPhone 15 Pro',\n",
       " 'Apple iPhone 15 Pro',\n",
       " 'Apple iPhone 15',\n",
       " 'Apple iPhone 15 Pro Max',\n",
       " 'Apple iPhone 15 Pro Max',\n",
       " 'Apple iPhone 15 Pro Max',\n",
       " 'Apple iPhone 15 Pro',\n",
       " 'Apple iPhone 15 Pro Max',\n",
       " 'Apple iPhone 15 Pro',\n",
       " 'Apple iPhone 15 Pro Max',\n",
       " 'Apple iPhone 16',\n",
       " 'Apple iPhone 15 Pro Max']"
      ]
     },
     "execution_count": 10,
     "metadata": {},
     "output_type": "execute_result"
    }
   ],
   "source": [
    "new_list"
   ]
  },
  {
   "cell_type": "code",
   "execution_count": 11,
   "id": "d40700f7",
   "metadata": {},
   "outputs": [],
   "source": [
    "new_list1 = [name.split(\"(\")[1].split(\",\")[0].strip() for name in productnames]"
   ]
  },
  {
   "cell_type": "code",
   "execution_count": 12,
   "id": "6e7313ad",
   "metadata": {},
   "outputs": [
    {
     "data": {
      "text/plain": [
       "['Blue',\n",
       " 'Black',\n",
       " 'Pink',\n",
       " 'Green',\n",
       " 'Blue',\n",
       " 'Green',\n",
       " 'Pink',\n",
       " 'Black',\n",
       " 'Black',\n",
       " 'Pink',\n",
       " 'Green',\n",
       " 'Blue',\n",
       " 'Blue Titanium',\n",
       " 'Natural Titanium',\n",
       " 'Yellow',\n",
       " 'White Titanium',\n",
       " 'Blue Titanium',\n",
       " 'Natural Titanium',\n",
       " 'Natural Titanium',\n",
       " 'Black Titanium',\n",
       " 'Blue Titanium',\n",
       " 'Blue Titanium',\n",
       " 'Teal',\n",
       " 'Blue Titanium']"
      ]
     },
     "execution_count": 12,
     "metadata": {},
     "output_type": "execute_result"
    }
   ],
   "source": [
    "new_list1"
   ]
  },
  {
   "cell_type": "code",
   "execution_count": 13,
   "id": "8d4edb1c",
   "metadata": {},
   "outputs": [],
   "source": [
    "productdesc=[]\n",
    "product_desc=browser.find_elements('xpath',\"//ul[@class='G4BRas']\")\n",
    "for pd in product_desc:\n",
    "    productdesc.append(pd.text)"
   ]
  },
  {
   "cell_type": "code",
   "execution_count": 14,
   "id": "43c2bc87",
   "metadata": {},
   "outputs": [],
   "source": [
    "new_desc = [name.replace('\\n',' , ') for name in productdesc]"
   ]
  },
  {
   "cell_type": "code",
   "execution_count": 15,
   "id": "dbf8100a",
   "metadata": {},
   "outputs": [
    {
     "data": {
      "text/plain": [
       "['128 GB ROM , 15.49 cm (6.1 inch) Super Retina XDR Display , 48MP + 12MP | 12MP Front Camera , A16 Bionic Chip, 6 Core Processor Processor , 1 Year Warranty for Phone and 6 Months Warranty for In-Box Accessories',\n",
       " '128 GB ROM , 15.49 cm (6.1 inch) Super Retina XDR Display , 48MP + 12MP | 12MP Front Camera , A16 Bionic Chip, 6 Core Processor Processor , 1 Year Warranty for Phone and 6 Months Warranty for In-Box Accessories',\n",
       " '128 GB ROM , 15.49 cm (6.1 inch) Super Retina XDR Display , 48MP + 12MP | 12MP Front Camera , A16 Bionic Chip, 6 Core Processor Processor , 1 Year Warranty for Phone and 6 Months Warranty for In-Box Accessories',\n",
       " '128 GB ROM , 15.49 cm (6.1 inch) Super Retina XDR Display , 48MP + 12MP | 12MP Front Camera , A16 Bionic Chip, 6 Core Processor Processor , 1 Year Warranty for Phone and 6 Months Warranty for In-Box Accessories',\n",
       " '128 GB ROM , 17.02 cm (6.7 inch) Super Retina XDR Display , 48MP + 12MP | 12MP Front Camera , A16 Bionic Chip, 6 Core Processor Processor , 1 Year Warranty for Phone and 6 Months Warranty for In-Box Accessories',\n",
       " '128 GB ROM , 17.02 cm (6.7 inch) Super Retina XDR Display , 48MP + 12MP | 12MP Front Camera , A16 Bionic Chip, 6 Core Processor Processor , 1 Year Warranty for Phone and 6 Months Warranty for In-Box Accessories',\n",
       " '128 GB ROM , 17.02 cm (6.7 inch) Super Retina XDR Display , 48MP + 12MP | 12MP Front Camera , A16 Bionic Chip, 6 Core Processor Processor , 1 Year Warranty for Phone and 6 Months Warranty for In-Box Accessories',\n",
       " '128 GB ROM , 17.02 cm (6.7 inch) Super Retina XDR Display , 48MP + 12MP | 12MP Front Camera , A16 Bionic Chip, 6 Core Processor Processor , 1 Year Warranty for Phone and 6 Months Warranty for In-Box Accessories',\n",
       " '256 GB ROM , 15.49 cm (6.1 inch) Super Retina XDR Display , 48MP + 12MP | 12MP Front Camera , A16 Bionic Chip, 6 Core Processor Processor , 1 Year Warranty for Phone and 6 Months Warranty for In-Box Accessories',\n",
       " '256 GB ROM , 15.49 cm (6.1 inch) Super Retina XDR Display , 48MP + 12MP | 12MP Front Camera , A16 Bionic Chip, 6 Core Processor Processor , 1 Year Warranty for Phone and 6 Months Warranty for In-Box Accessories',\n",
       " '256 GB ROM , 15.49 cm (6.1 inch) Super Retina XDR Display , 48MP + 12MP | 12MP Front Camera , A16 Bionic Chip, 6 Core Processor Processor , 1 Year Warranty for Phone and 6 Months Warranty for In-Box Accessories',\n",
       " '256 GB ROM , 15.49 cm (6.1 inch) Super Retina XDR Display , 48MP + 12MP | 12MP Front Camera , A16 Bionic Chip, 6 Core Processor Processor , 1 Year Warranty for Phone and 6 Months Warranty for In-Box Accessories',\n",
       " '256 GB ROM , 15.49 cm (6.1 inch) Super Retina XDR Display , 48MP + 12MP + 12MP | 12MP Front Camera , A17 Pro Chip, 6 Core Processor Processor , 1 Year Warranty for Phone and 6 Months Warranty for In-Box Accessories',\n",
       " '256 GB ROM , 15.49 cm (6.1 inch) Super Retina XDR Display , 48MP + 12MP + 12MP | 12MP Front Camera , A17 Pro Chip, 6 Core Processor Processor , 1 Year Warranty for Phone and 6 Months Warranty for In-Box Accessories',\n",
       " '128 GB ROM , 15.49 cm (6.1 inch) Super Retina XDR Display , 48MP + 12MP | 12MP Front Camera , A16 Bionic Chip, 6 Core Processor Processor , 1 Year Warranty for Phone and 6 Months Warranty for In-Box Accessories',\n",
       " '512 GB ROM , 17.02 cm (6.7 inch) Super Retina XDR Display , 48MP + 12MP + 12MP | 12MP Front Camera , A17 Pro Chip, 6 Core Processor Processor , 1 Year Warranty for Phone and 6 Months Warranty for In-Box Accessories',\n",
       " '512 GB ROM , 17.02 cm (6.7 inch) Super Retina XDR Display , 48MP + 12MP + 12MP | 12MP Front Camera , A17 Pro Chip, 6 Core Processor Processor , 1 Year Warranty for Phone and 6 Months Warranty for In-Box Accessories',\n",
       " '512 GB ROM , 17.02 cm (6.7 inch) Super Retina XDR Display , 48MP + 12MP + 12MP | 12MP Front Camera , A17 Pro Chip, 6 Core Processor Processor , 1 Year Warranty for Phone and 6 Months Warranty for In-Box Accessories',\n",
       " '128 GB ROM , 15.49 cm (6.1 inch) Super Retina XDR Display , 48MP + 12MP + 12MP | 12MP Front Camera , A17 Pro Chip, 6 Core Processor Processor , 1 Year Warranty for Phone and 6 Months Warranty for In-Box Accessories',\n",
       " '1 TB ROM , 17.02 cm (6.7 inch) Super Retina XDR Display , 48MP + 12MP + 12MP | 12MP Front Camera , A17 Pro Chip, 6 Core Processor Processor , 1 Year Warranty for Phone and 6 Months Warranty for In-Box Accessories',\n",
       " '512 GB ROM , 15.49 cm (6.1 inch) Super Retina XDR Display , 48MP + 12MP + 12MP | 12MP Front Camera , A17 Pro Chip, 6 Core Processor Processor , 1 Year Warranty for Phone and 6 Months Warranty for In-Box Accessories',\n",
       " '1 TB ROM , 17.02 cm (6.7 inch) Super Retina XDR Display , 48MP + 12MP + 12MP | 12MP Front Camera , A17 Pro Chip, 6 Core Processor Processor , 1 Year Warranty for Phone and 6 Months Warranty for In-Box Accessories',\n",
       " '128 GB ROM , 15.49 cm (6.1 inch) Super Retina XDR Display , 48MP + 12MP | 12MP Front Camera , A18 Chip, 6 Core Processor Processor , 1 Year Warranty for Phone and 6 Months Warranty for In-Box Accessories',\n",
       " '256 GB ROM , 17.02 cm (6.7 inch) Super Retina XDR Display , 48MP + 12MP + 12MP | 12MP Front Camera , A17 Pro Chip, 6 Core Processor Processor , 1 Year Warranty for Phone and 6 Months Warranty for In-Box Accessories']"
      ]
     },
     "execution_count": 15,
     "metadata": {},
     "output_type": "execute_result"
    }
   ],
   "source": [
    "new_desc"
   ]
  },
  {
   "cell_type": "code",
   "execution_count": 16,
   "id": "904a92e5",
   "metadata": {},
   "outputs": [],
   "source": [
    "productp=[]\n",
    "product_p=browser.find_elements('xpath',\"//div[@class='Nx9bqj _4b5DiR']\")\n",
    "for pprice in product_p:\n",
    "    productp.append(pprice.text)"
   ]
  },
  {
   "cell_type": "code",
   "execution_count": 17,
   "id": "bfa58a1d",
   "metadata": {},
   "outputs": [
    {
     "data": {
      "text/plain": [
       "['₹57,999',\n",
       " '₹57,999',\n",
       " '₹57,999',\n",
       " '₹57,999',\n",
       " '₹65,999',\n",
       " '₹65,999',\n",
       " '₹65,999',\n",
       " '₹65,999',\n",
       " '₹67,999',\n",
       " '₹67,999',\n",
       " '₹67,999',\n",
       " '₹67,999',\n",
       " '₹1,15,999',\n",
       " '₹1,15,999',\n",
       " '₹57,999',\n",
       " '₹1,32,999',\n",
       " '₹1,32,999',\n",
       " '₹1,32,999',\n",
       " '₹1,05,999',\n",
       " '₹1,40,999',\n",
       " '₹1,22,999',\n",
       " '₹1,40,999',\n",
       " '₹79,900',\n",
       " '₹1,25,999']"
      ]
     },
     "execution_count": 17,
     "metadata": {},
     "output_type": "execute_result"
    }
   ],
   "source": [
    "productp"
   ]
  },
  {
   "cell_type": "code",
   "execution_count": 18,
   "id": "6704269a",
   "metadata": {},
   "outputs": [],
   "source": [
    "productmrp=[]\n",
    "product_mrp=browser.find_elements('xpath',\"//div[@class='yRaY8j ZYYwLA']\")\n",
    "for pmrp in product_mrp:\n",
    "    productmrp.append(pmrp.text)"
   ]
  },
  {
   "cell_type": "code",
   "execution_count": 19,
   "id": "0d68c36e",
   "metadata": {},
   "outputs": [
    {
     "data": {
      "text/plain": [
       "['₹69,900',\n",
       " '₹69,900',\n",
       " '₹69,900',\n",
       " '₹69,900',\n",
       " '₹79,900',\n",
       " '₹79,900',\n",
       " '₹79,900',\n",
       " '₹79,900',\n",
       " '₹79,900',\n",
       " '₹79,900',\n",
       " '₹79,900',\n",
       " '₹79,900',\n",
       " '₹1,19,900',\n",
       " '₹1,19,900',\n",
       " '₹69,900',\n",
       " '₹1,54,900',\n",
       " '₹1,54,900',\n",
       " '₹1,54,900',\n",
       " '₹1,09,900',\n",
       " '₹1,74,900',\n",
       " '₹1,39,900',\n",
       " '₹1,74,900',\n",
       " '₹1,34,900']"
      ]
     },
     "execution_count": 19,
     "metadata": {},
     "output_type": "execute_result"
    }
   ],
   "source": [
    "productmrp"
   ]
  },
  {
   "cell_type": "code",
   "execution_count": 20,
   "id": "02bf9126",
   "metadata": {},
   "outputs": [],
   "source": [
    "productr=[]\n",
    "product_r=browser.find_elements('xpath',\"//div[@class='XQDdHH']\")\n",
    "for pr in product_r:\n",
    "    productr.append(pr.text)"
   ]
  },
  {
   "cell_type": "code",
   "execution_count": 21,
   "id": "9cf00fd0",
   "metadata": {},
   "outputs": [
    {
     "data": {
      "text/plain": [
       "['4.6',\n",
       " '4.6',\n",
       " '4.6',\n",
       " '4.6',\n",
       " '4.6',\n",
       " '4.6',\n",
       " '4.6',\n",
       " '4.6',\n",
       " '4.6',\n",
       " '4.6',\n",
       " '4.6',\n",
       " '4.6',\n",
       " '4.6',\n",
       " '4.6',\n",
       " '4.6',\n",
       " '4.6',\n",
       " '4.6',\n",
       " '4.6',\n",
       " '4.6',\n",
       " '4.6',\n",
       " '4.6',\n",
       " '4.6',\n",
       " '4.6',\n",
       " '4.6',\n",
       " '4.6',\n",
       " '4.6',\n",
       " '4.6',\n",
       " '4.6',\n",
       " '4.6']"
      ]
     },
     "execution_count": 21,
     "metadata": {},
     "output_type": "execute_result"
    }
   ],
   "source": [
    "productr"
   ]
  },
  {
   "cell_type": "code",
   "execution_count": 22,
   "id": "cab96196",
   "metadata": {},
   "outputs": [],
   "source": [
    "productrc=[]\n",
    "product_rc=browser.find_elements('xpath',\"//span[@class='Wphh3N']\")\n",
    "for prc in product_rc:\n",
    "    productrc.append(prc.text)"
   ]
  },
  {
   "cell_type": "code",
   "execution_count": 23,
   "id": "c3a69041",
   "metadata": {},
   "outputs": [
    {
     "data": {
      "text/plain": [
       "['1,52,338 Ratings & 4,932 Reviews',\n",
       " '1,52,338 Ratings & 4,932 Reviews',\n",
       " '1,52,338 Ratings & 4,932 Reviews',\n",
       " '1,52,338 Ratings & 4,932 Reviews',\n",
       " '23,730 Ratings & 1,228 Reviews',\n",
       " '23,730 Ratings & 1,228 Reviews',\n",
       " '23,730 Ratings & 1,228 Reviews',\n",
       " '23,730 Ratings & 1,228 Reviews',\n",
       " '1,52,338 Ratings & 4,932 Reviews',\n",
       " '1,52,338 Ratings & 4,932 Reviews',\n",
       " '1,52,338 Ratings & 4,932 Reviews',\n",
       " '1,52,338 Ratings & 4,932 Reviews',\n",
       " '2,090 Ratings & 102 Reviews',\n",
       " '2,090 Ratings & 102 Reviews',\n",
       " '1,52,338 Ratings & 4,932 Reviews',\n",
       " '1,730 Ratings & 103 Reviews',\n",
       " '1,730 Ratings & 103 Reviews',\n",
       " '1,730 Ratings & 103 Reviews',\n",
       " '2,090 Ratings & 102 Reviews',\n",
       " '1,730 Ratings & 103 Reviews',\n",
       " '2,090 Ratings & 102 Reviews',\n",
       " '1,730 Ratings & 103 Reviews',\n",
       " '1,094 Ratings & 26 Reviews',\n",
       " '1,730 Ratings & 103 Reviews']"
      ]
     },
     "execution_count": 23,
     "metadata": {},
     "output_type": "execute_result"
    }
   ],
   "source": [
    "productrc"
   ]
  },
  {
   "cell_type": "code",
   "execution_count": 24,
   "id": "db8cbef7",
   "metadata": {},
   "outputs": [],
   "source": [
    "new_rc = [name.split(\"&\")[1].split(\"R\")[0].strip() for name in productrc]"
   ]
  },
  {
   "cell_type": "code",
   "execution_count": 25,
   "id": "32df3c95",
   "metadata": {},
   "outputs": [
    {
     "data": {
      "text/plain": [
       "['4,932',\n",
       " '4,932',\n",
       " '4,932',\n",
       " '4,932',\n",
       " '1,228',\n",
       " '1,228',\n",
       " '1,228',\n",
       " '1,228',\n",
       " '4,932',\n",
       " '4,932',\n",
       " '4,932',\n",
       " '4,932',\n",
       " '102',\n",
       " '102',\n",
       " '4,932',\n",
       " '103',\n",
       " '103',\n",
       " '103',\n",
       " '102',\n",
       " '103',\n",
       " '102',\n",
       " '103',\n",
       " '26',\n",
       " '103']"
      ]
     },
     "execution_count": 25,
     "metadata": {},
     "output_type": "execute_result"
    }
   ],
   "source": [
    "new_rc"
   ]
  },
  {
   "cell_type": "code",
   "execution_count": 27,
   "id": "1d568ebc",
   "metadata": {},
   "outputs": [
    {
     "name": "stdout",
     "output_type": "stream",
     "text": [
      "Scripting first page 1\n",
      "24\n",
      "24\n",
      "24\n",
      "24\n",
      "24\n",
      "Scripting first page 2\n",
      "24\n",
      "24\n",
      "24\n",
      "24\n",
      "24\n",
      "Scripting first page 3\n",
      "24\n",
      "24\n",
      "24\n",
      "24\n",
      "24\n",
      "Scripting first page 4\n",
      "24\n",
      "24\n",
      "24\n",
      "24\n",
      "24\n",
      "Scripting first page 5\n",
      "24\n",
      "24\n",
      "24\n",
      "24\n",
      "24\n",
      "Scripting first page 6\n",
      "24\n",
      "24\n",
      "24\n",
      "24\n",
      "24\n",
      "Scripting first page 7\n",
      "24\n",
      "24\n",
      "24\n",
      "24\n",
      "24\n",
      "Scripting first page 8\n",
      "24\n",
      "24\n",
      "24\n",
      "24\n",
      "24\n",
      "Scripting first page 9\n",
      "24\n",
      "24\n",
      "24\n",
      "24\n",
      "24\n",
      "Scripting first page 10\n",
      "24\n",
      "24\n",
      "24\n",
      "24\n",
      "24\n",
      "Scripting first page 11\n",
      "24\n",
      "24\n",
      "24\n",
      "24\n",
      "24\n",
      "Scripting first page 12\n",
      "24\n",
      "24\n",
      "24\n",
      "24\n",
      "24\n",
      "Scripting first page 13\n",
      "24\n",
      "24\n",
      "24\n",
      "24\n",
      "24\n",
      "Scripting first page 14\n",
      "24\n",
      "24\n",
      "24\n",
      "24\n",
      "24\n",
      "Scripting first page 15\n",
      "24\n",
      "24\n",
      "24\n",
      "24\n",
      "24\n",
      "Scripting first page 16\n",
      "24\n",
      "24\n",
      "24\n",
      "24\n",
      "24\n",
      "Scripting first page 17\n",
      "24\n",
      "24\n",
      "24\n",
      "24\n",
      "24\n",
      "Scripting first page 18\n",
      "24\n",
      "24\n",
      "24\n",
      "24\n",
      "24\n",
      "Scripting first page 19\n",
      "24\n",
      "24\n",
      "24\n",
      "24\n",
      "24\n",
      "Scripting first page 20\n",
      "24\n",
      "24\n",
      "24\n",
      "24\n",
      "24\n"
     ]
    }
   ],
   "source": [
    "flipkart_data={'ProductName':[],'ProductColor':[],'ProductDescription' :[],'ProductSellingPrice':[],'ProductRating':[],'ProductReviewCount':[]}\n",
    "for i in range(20):\n",
    "    print(\"Scripting first page\",i+1)\n",
    "    product_name=browser.find_elements('xpath',\"//div[@class='KzDlHZ']\")\n",
    "    for pn in product_name:\n",
    "        flipkart_data['ProductName'].append(pn.text.split('(')[0].strip())\n",
    "        flipkart_data['ProductColor'].append(pn.text.split(\"(\")[1].split(\",\")[0].strip())\n",
    "    product_description=browser.find_elements('xpath',\"//ul[@class='G4BRas']\")    \n",
    "    for pd in product_description:\n",
    "        flipkart_data['ProductDescription'].append(pd.text.replace('\\n',' , '))\n",
    "    product_selling_price=browser.find_elements('xpath',\"//div[@class='Nx9bqj _4b5DiR']\")    \n",
    "    for psp in product_selling_price:\n",
    "        flipkart_data['ProductSellingPrice'].append(psp.text)\n",
    "    product_rating=browser.find_elements('xpath',\"//div[@class= '_5OesEi']//span[@class= 'Y1HWO0']//div[@class= 'XQDdHH']\")    \n",
    "    for pr in product_rating:\n",
    "        flipkart_data['ProductRating'].append(pr.text)\n",
    "    product_review_count=browser.find_elements('xpath',\"//span[@class='Wphh3N']\")    \n",
    "    for prc in product_review_count:\n",
    "        flipkart_data['ProductReviewCount'].append(prc.text.split(\"&\")[1].split(\"R\")[0].strip())\n",
    "    print(len(product_name))\n",
    "    print(len(product_description))\n",
    "    print(len(product_selling_price))\n",
    "    print(len(product_rating))\n",
    "    print(len(product_review_count))\n",
    "    next_button=browser.find_element('xpath',\"//a[@class='_9QVEpD']\")\n",
    "    next_button.click()\n",
    "    sleep(5)"
   ]
  },
  {
   "cell_type": "code",
   "execution_count": 28,
   "id": "d9caea66",
   "metadata": {},
   "outputs": [],
   "source": [
    "import pandas as pd"
   ]
  },
  {
   "cell_type": "code",
   "execution_count": 29,
   "id": "5b5590c8",
   "metadata": {},
   "outputs": [
    {
     "name": "stdout",
     "output_type": "stream",
     "text": [
      "ProductName: 480\n",
      "ProductColor: 480\n",
      "ProductDescription: 480\n",
      "ProductSellingPrice: 480\n",
      "ProductRating: 480\n",
      "ProductReviewCount: 480\n"
     ]
    }
   ],
   "source": [
    "# Check if all lists in flipkart_data are of the same length\n",
    "for key, value in flipkart_data.items():\n",
    "    print(f\"{key}: {len(value)}\")"
   ]
  },
  {
   "cell_type": "code",
   "execution_count": 30,
   "id": "6517f43a",
   "metadata": {},
   "outputs": [],
   "source": [
    "flipkart_data_df= pd.DataFrame(flipkart_data)"
   ]
  },
  {
   "cell_type": "code",
   "execution_count": 31,
   "id": "4bb0195a",
   "metadata": {},
   "outputs": [
    {
     "data": {
      "text/html": [
       "<div>\n",
       "<style scoped>\n",
       "    .dataframe tbody tr th:only-of-type {\n",
       "        vertical-align: middle;\n",
       "    }\n",
       "\n",
       "    .dataframe tbody tr th {\n",
       "        vertical-align: top;\n",
       "    }\n",
       "\n",
       "    .dataframe thead th {\n",
       "        text-align: right;\n",
       "    }\n",
       "</style>\n",
       "<table border=\"1\" class=\"dataframe\">\n",
       "  <thead>\n",
       "    <tr style=\"text-align: right;\">\n",
       "      <th></th>\n",
       "      <th>ProductName</th>\n",
       "      <th>ProductColor</th>\n",
       "      <th>ProductDescription</th>\n",
       "      <th>ProductSellingPrice</th>\n",
       "      <th>ProductRating</th>\n",
       "      <th>ProductReviewCount</th>\n",
       "    </tr>\n",
       "  </thead>\n",
       "  <tbody>\n",
       "    <tr>\n",
       "      <th>0</th>\n",
       "      <td>Apple iPhone 15</td>\n",
       "      <td>Blue</td>\n",
       "      <td>128 GB ROM , 15.49 cm (6.1 inch) Super Retina ...</td>\n",
       "      <td>₹57,999</td>\n",
       "      <td>4.6</td>\n",
       "      <td>4,932</td>\n",
       "    </tr>\n",
       "    <tr>\n",
       "      <th>1</th>\n",
       "      <td>Apple iPhone 15</td>\n",
       "      <td>Black</td>\n",
       "      <td>128 GB ROM , 15.49 cm (6.1 inch) Super Retina ...</td>\n",
       "      <td>₹57,999</td>\n",
       "      <td>4.6</td>\n",
       "      <td>4,932</td>\n",
       "    </tr>\n",
       "    <tr>\n",
       "      <th>2</th>\n",
       "      <td>Apple iPhone 15</td>\n",
       "      <td>Pink</td>\n",
       "      <td>128 GB ROM , 15.49 cm (6.1 inch) Super Retina ...</td>\n",
       "      <td>₹57,999</td>\n",
       "      <td>4.6</td>\n",
       "      <td>4,932</td>\n",
       "    </tr>\n",
       "    <tr>\n",
       "      <th>3</th>\n",
       "      <td>Apple iPhone 15</td>\n",
       "      <td>Green</td>\n",
       "      <td>128 GB ROM , 15.49 cm (6.1 inch) Super Retina ...</td>\n",
       "      <td>₹57,999</td>\n",
       "      <td>4.6</td>\n",
       "      <td>4,932</td>\n",
       "    </tr>\n",
       "    <tr>\n",
       "      <th>4</th>\n",
       "      <td>Apple iPhone 15 Plus</td>\n",
       "      <td>Blue</td>\n",
       "      <td>128 GB ROM , 17.02 cm (6.7 inch) Super Retina ...</td>\n",
       "      <td>₹65,999</td>\n",
       "      <td>4.6</td>\n",
       "      <td>1,228</td>\n",
       "    </tr>\n",
       "    <tr>\n",
       "      <th>...</th>\n",
       "      <td>...</td>\n",
       "      <td>...</td>\n",
       "      <td>...</td>\n",
       "      <td>...</td>\n",
       "      <td>...</td>\n",
       "      <td>...</td>\n",
       "    </tr>\n",
       "    <tr>\n",
       "      <th>475</th>\n",
       "      <td>Apple iPhone 16 Plus</td>\n",
       "      <td>Ultramarine</td>\n",
       "      <td>128 GB ROM , 17.02 cm (6.7 inch) Super Retina ...</td>\n",
       "      <td>₹89,900</td>\n",
       "      <td>4.7</td>\n",
       "      <td>21</td>\n",
       "    </tr>\n",
       "    <tr>\n",
       "      <th>476</th>\n",
       "      <td>Apple iPhone 16</td>\n",
       "      <td>Pink</td>\n",
       "      <td>128 GB ROM , 15.49 cm (6.1 inch) Super Retina ...</td>\n",
       "      <td>₹79,900</td>\n",
       "      <td>4.6</td>\n",
       "      <td>26</td>\n",
       "    </tr>\n",
       "    <tr>\n",
       "      <th>477</th>\n",
       "      <td>Apple iPhone 12</td>\n",
       "      <td>Black</td>\n",
       "      <td>64 GB ROM , 15.49 cm (6.1 inch) Super Retina X...</td>\n",
       "      <td>₹49,900</td>\n",
       "      <td>4.6</td>\n",
       "      <td>13,925</td>\n",
       "    </tr>\n",
       "    <tr>\n",
       "      <th>478</th>\n",
       "      <td>Apple iPhone 13</td>\n",
       "      <td>Midnight</td>\n",
       "      <td>128 GB ROM , 15.49 cm (6.1 inch) Super Retina ...</td>\n",
       "      <td>₹49,900</td>\n",
       "      <td>4.6</td>\n",
       "      <td>13,739</td>\n",
       "    </tr>\n",
       "    <tr>\n",
       "      <th>479</th>\n",
       "      <td>Apple iPhone 16 Plus</td>\n",
       "      <td>Pink</td>\n",
       "      <td>256 GB ROM , 17.02 cm (6.7 inch) Super Retina ...</td>\n",
       "      <td>₹99,900</td>\n",
       "      <td>4.7</td>\n",
       "      <td>21</td>\n",
       "    </tr>\n",
       "  </tbody>\n",
       "</table>\n",
       "<p>480 rows × 6 columns</p>\n",
       "</div>"
      ],
      "text/plain": [
       "              ProductName ProductColor  \\\n",
       "0         Apple iPhone 15         Blue   \n",
       "1         Apple iPhone 15        Black   \n",
       "2         Apple iPhone 15         Pink   \n",
       "3         Apple iPhone 15        Green   \n",
       "4    Apple iPhone 15 Plus         Blue   \n",
       "..                    ...          ...   \n",
       "475  Apple iPhone 16 Plus  Ultramarine   \n",
       "476       Apple iPhone 16         Pink   \n",
       "477       Apple iPhone 12        Black   \n",
       "478       Apple iPhone 13     Midnight   \n",
       "479  Apple iPhone 16 Plus         Pink   \n",
       "\n",
       "                                    ProductDescription ProductSellingPrice  \\\n",
       "0    128 GB ROM , 15.49 cm (6.1 inch) Super Retina ...             ₹57,999   \n",
       "1    128 GB ROM , 15.49 cm (6.1 inch) Super Retina ...             ₹57,999   \n",
       "2    128 GB ROM , 15.49 cm (6.1 inch) Super Retina ...             ₹57,999   \n",
       "3    128 GB ROM , 15.49 cm (6.1 inch) Super Retina ...             ₹57,999   \n",
       "4    128 GB ROM , 17.02 cm (6.7 inch) Super Retina ...             ₹65,999   \n",
       "..                                                 ...                 ...   \n",
       "475  128 GB ROM , 17.02 cm (6.7 inch) Super Retina ...             ₹89,900   \n",
       "476  128 GB ROM , 15.49 cm (6.1 inch) Super Retina ...             ₹79,900   \n",
       "477  64 GB ROM , 15.49 cm (6.1 inch) Super Retina X...             ₹49,900   \n",
       "478  128 GB ROM , 15.49 cm (6.1 inch) Super Retina ...             ₹49,900   \n",
       "479  256 GB ROM , 17.02 cm (6.7 inch) Super Retina ...             ₹99,900   \n",
       "\n",
       "    ProductRating ProductReviewCount  \n",
       "0             4.6              4,932  \n",
       "1             4.6              4,932  \n",
       "2             4.6              4,932  \n",
       "3             4.6              4,932  \n",
       "4             4.6              1,228  \n",
       "..            ...                ...  \n",
       "475           4.7                 21  \n",
       "476           4.6                 26  \n",
       "477           4.6             13,925  \n",
       "478           4.6             13,739  \n",
       "479           4.7                 21  \n",
       "\n",
       "[480 rows x 6 columns]"
      ]
     },
     "execution_count": 31,
     "metadata": {},
     "output_type": "execute_result"
    }
   ],
   "source": [
    "flipkart_data_df"
   ]
  },
  {
   "cell_type": "code",
   "execution_count": 32,
   "id": "658181a9",
   "metadata": {},
   "outputs": [],
   "source": [
    "flipkart_data_df.to_csv(\"Flipkart_data using selenium.csv\",header=True,index=False)"
   ]
  },
  {
   "cell_type": "code",
   "execution_count": null,
   "id": "5042e5b0",
   "metadata": {},
   "outputs": [],
   "source": []
  }
 ],
 "metadata": {
  "kernelspec": {
   "display_name": "Python 3 (ipykernel)",
   "language": "python",
   "name": "python3"
  },
  "language_info": {
   "codemirror_mode": {
    "name": "ipython",
    "version": 3
   },
   "file_extension": ".py",
   "mimetype": "text/x-python",
   "name": "python",
   "nbconvert_exporter": "python",
   "pygments_lexer": "ipython3",
   "version": "3.10.9"
  }
 },
 "nbformat": 4,
 "nbformat_minor": 5
}
